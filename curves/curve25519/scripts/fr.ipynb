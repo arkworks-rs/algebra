{
 "cells": [
  {
   "cell_type": "code",
   "execution_count": 1,
   "id": "04264893",
   "metadata": {},
   "outputs": [],
   "source": [
    "r = 7237005577332262213973186563042994240857116359379907606001950938285454250989"
   ]
  },
  {
   "cell_type": "code",
   "execution_count": 2,
   "id": "1603b293",
   "metadata": {},
   "outputs": [
    {
     "data": {
      "text/plain": [
       "2^2 * 3 * 11 * 198211423230930754013084525763697 * 276602624281642239937218680557139826668747"
      ]
     },
     "execution_count": 2,
     "metadata": {},
     "output_type": "execute_result"
    }
   ],
   "source": [
    "factor(r - 1)"
   ]
  },
  {
   "cell_type": "code",
   "execution_count": 3,
   "id": "425ceac7",
   "metadata": {},
   "outputs": [
    {
     "name": "stdout",
     "output_type": "stream",
     "text": [
      "7237005577332262213973186563042994240857116359379907606001950938285454250988\n",
      "1570463851528226261927580272323658009530148727742783848239914322803198255651\n",
      "4908983020090465803374304318106080751443647916949975825112097080460587568629\n",
      "7119675135705137915307919240607293966034195415655343409829245710729128040338\n",
      "2975531125133123119648879457563281269120703404158613135195788908093573672641\n"
     ]
    }
   ],
   "source": [
    "gen = 2\n",
    "print(pow(gen, (r - 1) / 2, r))\n",
    "print(pow(gen, (r - 1) / 3, r))\n",
    "print(pow(gen, (r - 1) / 11, r))\n",
    "print(pow(gen, (r - 1) / 198211423230930754013084525763697, r))\n",
    "print(pow(gen, (r - 1) / 276602624281642239937218680557139826668747, r))"
   ]
  },
  {
   "cell_type": "code",
   "execution_count": null,
   "id": "f4c58ca4",
   "metadata": {},
   "outputs": [],
   "source": []
  }
 ],
 "metadata": {
  "kernelspec": {
   "display_name": "SageMath 9.2",
   "language": "sage",
   "name": "sagemath"
  },
  "language_info": {
   "codemirror_mode": {
    "name": "ipython",
    "version": 3
   },
   "file_extension": ".py",
   "mimetype": "text/x-python",
   "name": "python",
   "nbconvert_exporter": "python",
   "pygments_lexer": "ipython3",
   "version": "3.9.7"
  }
 },
 "nbformat": 4,
 "nbformat_minor": 5
}
